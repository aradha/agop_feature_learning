{
 "cells": [
  {
   "cell_type": "code",
   "execution_count": 39,
   "id": "513b64ba-d51a-428f-ae61-148bac60e0a8",
   "metadata": {
    "tags": []
   },
   "outputs": [
    {
     "name": "stdout",
     "output_type": "stream",
     "text": [
      "The autoreload extension is already loaded. To reload it, use:\n",
      "  %reload_ext autoreload\n"
     ]
    }
   ],
   "source": [
    "%load_ext autoreload\n",
    "%autoreload 2"
   ]
  },
  {
   "cell_type": "code",
   "execution_count": 40,
   "id": "a75e54fd-b9fd-408a-aeca-d7af88bdcb95",
   "metadata": {
    "tags": []
   },
   "outputs": [],
   "source": [
    "import torch\n",
    "import numpy as np\n",
    "import jax\n",
    "import jax.numpy as jnp\n",
    "import torch.nn.functional as F\n",
    "from einops import rearrange"
   ]
  },
  {
   "cell_type": "code",
   "execution_count": 41,
   "id": "27d0198a-9f08-4eba-9ef9-66f92b109c94",
   "metadata": {
    "tags": []
   },
   "outputs": [],
   "source": [
    "import matplotlib.pyplot as plt"
   ]
  },
  {
   "cell_type": "code",
   "execution_count": 42,
   "id": "cbebee9a-d92d-47df-a76e-0a4a05f4d96e",
   "metadata": {
    "tags": []
   },
   "outputs": [],
   "source": [
    "import neural_tangents as nt\n",
    "import neural_tangents.stax as stax"
   ]
  },
  {
   "cell_type": "code",
   "execution_count": 43,
   "id": "d8e32024-43d5-473c-876c-7feacf49d891",
   "metadata": {
    "tags": []
   },
   "outputs": [],
   "source": [
    "from tqdm import tqdm\n",
    "import time\n",
    "import argparse\n",
    "import csv\n",
    "import os\n",
    "import pickle"
   ]
  },
  {
   "cell_type": "code",
   "execution_count": 44,
   "id": "ed71e4be-207a-42a6-abf2-273cc36d9d1e",
   "metadata": {
    "tags": []
   },
   "outputs": [
    {
     "name": "stdout",
     "output_type": "stream",
     "text": [
      "[Errno 2] No such file or directory: 'neural_feature_kernels/cks/relu_cntk'\n",
      "/u/dbeaglehole/neural_feature_kernels/cks/relu_cntk\n"
     ]
    }
   ],
   "source": [
    "cd neural_feature_kernels/cks/relu_cntk"
   ]
  },
  {
   "cell_type": "code",
   "execution_count": 45,
   "id": "b63dfdae-4079-46da-abe9-6d783abff0c2",
   "metadata": {
    "tags": []
   },
   "outputs": [],
   "source": [
    "import models\n",
    "import utils\n",
    "import grads\n",
    "import dataset"
   ]
  },
  {
   "cell_type": "code",
   "execution_count": 69,
   "id": "eed7fa3b-cd44-49e5-8bf8-00b471989286",
   "metadata": {
    "tags": []
   },
   "outputs": [],
   "source": [
    "n_train = 1000\n",
    "n_test = 1000\n",
    "\n",
    "train_X, test_X, train_y, test_y = dataset.get_svhn(n_train, n_test)\n",
    "\n",
    "num_classes=10\n",
    "reg = 1e-5\n",
    "ps = 3\n",
    "depth = 3\n",
    "num_iters = 5"
   ]
  },
  {
   "cell_type": "code",
   "execution_count": 70,
   "id": "214b7e6a-a678-4e2f-9409-76e19ba77df5",
   "metadata": {
    "tags": []
   },
   "outputs": [],
   "source": [
    "train_X_exp = utils.expand_image(train_X, ps)\n",
    "test_X_exp = utils.expand_image(test_X, ps)\n",
    "\n",
    "train_X_exp = torch.moveaxis(train_X_exp,1,-1).numpy()\n",
    "test_X_exp = torch.moveaxis(test_X_exp,1,-1).numpy()\n",
    "y_train = train_y.numpy()\n",
    "y_test = test_y.numpy()\n",
    "train_X_exp, test_X_exp = jnp.array(train_X_exp), jnp.array(test_X_exp)\n",
    "\n",
    "_, _, kernel_fn = models.Vanilla(ps=ps, depth=depth, expanded=True)"
   ]
  },
  {
   "cell_type": "code",
   "execution_count": 71,
   "id": "8f61e163-5406-4fa0-80ee-c8c4f27b1700",
   "metadata": {
    "tags": []
   },
   "outputs": [
    {
     "name": "stdout",
     "output_type": "stream",
     "text": [
      "Ktrain time 0.7794179916381836\n",
      "Ktest time 0.4079551696777344\n",
      "Solve time 0.024685382843017578\n",
      "Round 0 accuracy: 53.0\n",
      "Round 0 MSE: 0.7731208\n",
      "\n"
     ]
    },
    {
     "name": "stderr",
     "output_type": "stream",
     "text": [
      "100%|██████████| 10/10 [00:09<00:00,  1.09it/s]\n"
     ]
    },
    {
     "name": "stdout",
     "output_type": "stream",
     "text": [
      "Ktrain time 0.4104492664337158\n",
      "Ktest time 0.4079902172088623\n",
      "Solve time 0.024852991104125977\n",
      "Round 1 accuracy: 53.300000000000004\n",
      "Round 1 MSE: 0.7721\n",
      "\n"
     ]
    },
    {
     "name": "stderr",
     "output_type": "stream",
     "text": [
      "100%|██████████| 10/10 [00:09<00:00,  1.08it/s]\n"
     ]
    },
    {
     "name": "stdout",
     "output_type": "stream",
     "text": [
      "Ktrain time 0.41316914558410645\n",
      "Ktest time 0.4089360237121582\n",
      "Solve time 0.02455425262451172\n",
      "Round 2 accuracy: 54.800000000000004\n",
      "Round 2 MSE: 0.7646503\n",
      "\n"
     ]
    },
    {
     "name": "stderr",
     "output_type": "stream",
     "text": [
      "100%|██████████| 10/10 [00:10<00:00,  1.01s/it]\n"
     ]
    },
    {
     "name": "stdout",
     "output_type": "stream",
     "text": [
      "Ktrain time 0.549004077911377\n",
      "Ktest time 0.5071299076080322\n",
      "Solve time 0.027564525604248047\n",
      "Round 3 accuracy: 58.4\n",
      "Round 3 MSE: 0.7529399\n",
      "\n"
     ]
    },
    {
     "name": "stderr",
     "output_type": "stream",
     "text": [
      "100%|██████████| 10/10 [00:09<00:00,  1.04it/s]\n"
     ]
    },
    {
     "name": "stdout",
     "output_type": "stream",
     "text": [
      "Ktrain time 0.4124617576599121\n",
      "Ktest time 0.40927624702453613\n",
      "Solve time 0.024213790893554688\n",
      "Round 4 accuracy: 60.5\n",
      "Round 4 MSE: 0.7675647\n",
      "\n"
     ]
    }
   ],
   "source": [
    "accs = []\n",
    "mses = []\n",
    "M = None\n",
    "for t in range(num_iters):\n",
    "\n",
    "    if M is not None:\n",
    "        del train_X_M\n",
    "        del test_X_M\n",
    "\n",
    "        train_X_M = utils.multiply_patches(train_X_exp, M, ps)\n",
    "        test_X_M = utils.multiply_patches(test_X_exp, M, ps)\n",
    "    else:\n",
    "        train_X_M = train_X_exp\n",
    "        test_X_M = test_X_exp\n",
    "\n",
    "\n",
    "    start = time.time()\n",
    "    Ktrain = utils.batch_kernel(kernel_fn, train_X_M, train_X_M)\n",
    "    end = time.time()\n",
    "    print(f'Ktrain time {end-start}')\n",
    "\n",
    "    start = time.time()\n",
    "    Ktest = utils.batch_kernel(kernel_fn, test_X_M, train_X_M)\n",
    "    end = time.time()\n",
    "    print(f'Ktest time {end-start}')\n",
    "\n",
    "    scale = Ktrain.max()\n",
    "    Ktrain /= scale\n",
    "    Ktest /= scale\n",
    "\n",
    "    start = time.time()\n",
    "    alphas=np.linalg.solve(reg*np.eye(n_train, dtype=np.float32)+Ktrain, y_train.astype(np.float32))\n",
    "    end = time.time()\n",
    "    print(f'Solve time {end-start}')\n",
    "\n",
    "    ypred = Ktest@alphas\n",
    "    acc = np.mean(1.0*(np.argmax(ypred,axis=1) == np.argmax(y_test,axis=1))) * 100\n",
    "    mse = np.mean(np.sum((ypred - y_test)**2,axis=1))\n",
    "\n",
    "    accs.append(acc)\n",
    "    mses.append(mse)\n",
    "    print(f'Round {t} accuracy:', acc)\n",
    "    print(f'Round {t} MSE:', mse)\n",
    "    print()\n",
    "    \n",
    "    if t < num_iters - 1:\n",
    "        s = 20\n",
    "        Xs = X_train[:s]\n",
    "        M = grads.get_grads(kernel_fn, jnp.array(alphas), train_X_M, Xs, M, num_classes, ps)\n",
    "\n",
    "        M = utils.matrix_sqrt(M)\n",
    "        M = jnp.array(M.numpy())\n",
    "        M = M/np.linalg.norm(M)"
   ]
  },
  {
   "cell_type": "code",
   "execution_count": 72,
   "id": "3e558cfd-f9ab-4356-9e58-cadb2b598f2c",
   "metadata": {},
   "outputs": [
    {
     "data": {
      "image/png": "[encoded data removed]",
      "text/plain": [
       "<Figure size 640x480 with 8 Axes>"
      ]
     },
     "metadata": {},
     "output_type": "display_data"
    }
   ],
   "source": [
    "# plot top k eigvs of M\n",
    "def scale(x):\n",
    "    return (x - x.min())/(x.max() - x.min())\n",
    "\n",
    "fig, axes = plt.subplots(2,4)\n",
    "fig.suptitle(\"Eigenvectors of M in descending order\", fontsize=16)\n",
    "\n",
    "topk = 8 \n",
    "S, U = jnp.linalg.eigh(M)\n",
    "i = 0\n",
    "j = 0\n",
    "for k in range(topk):\n",
    "    uk = U[:,-1-k]\n",
    "    uk = np.transpose(uk.reshape(3,3,3),(1,2,0))\n",
    "    \n",
    "    if k==4:\n",
    "        j += 1\n",
    "        i = 0\n",
    "    \n",
    "    ax = axes[j][i]\n",
    "    ax.imshow(scale(uk))\n",
    "    ax.set_xticks([])\n",
    "    ax.set_yticks([])\n",
    "    ax.title.set_text(rf'$u_{k+1}$')\n",
    "    \n",
    "    i += 1"
   ]
  },
  {
   "cell_type": "markdown",
   "id": "8f84c6e1-b1aa-4a7a-89e5-51a4f4995d94",
   "metadata": {},
   "source": [
    "## Visualizing filters"
   ]
  },
  {
   "cell_type": "code",
   "execution_count": 78,
   "id": "7902f4ed-073c-40ba-98b6-02aeca081eb8",
   "metadata": {
    "tags": []
   },
   "outputs": [],
   "source": [
    "def expand_image(X, ps=3):\n",
    "    \"\"\"\n",
    "    X : (n, c, p, q)\n",
    "    out : (n, c, p*ps, q*ps)\n",
    "    \"\"\"\n",
    "\n",
    "    n, c, p, q = X.shape\n",
    "\n",
    "    pad_sz = ps//2\n",
    "    X_patched = torch.from_numpy(np.pad(X, ((0,0),(0,0),(pad_sz,pad_sz),(pad_sz,pad_sz)), mode='wrap'))\n",
    "\n",
    "    X_patched = X_patched.unfold(2,ps,1).unfold(3,ps,1) # (n, c, p, q, ps, ps)\n",
    "    X_patched = X_patched.transpose(-2,-3) # (n, c, p, ps, q, ps)\n",
    "    X_expanded = X_patched.reshape(n,c,p*ps,q*ps)\n",
    "    return X_expanded\n",
    "\n",
    "def reduce_image(X, ps=3):\n",
    "    \"\"\"\n",
    "    X : (n, c, p*ps, q*ps)\n",
    "    out : (n, c, p, q)\n",
    "    \"\"\"\n",
    "    n, c, P, Q = X.shape\n",
    "    p = P//ps\n",
    "    q = Q//ps\n",
    "\n",
    "    X = X.reshape(n, c, p, ps, q, ps)\n",
    "    X = X.norm(dim=(3,5))\n",
    "    return X\n",
    "\n",
    "def multiply_patches(X, M, ps=3):\n",
    "    \"\"\"\n",
    "    X : (n, c, p*ps, q*ps)\n",
    "    M : (c*w*h, c*w*h)\n",
    "    out : (n, c, p*ps, q*ps)\n",
    "    \"\"\"\n",
    "    n = X.shape[0]\n",
    "    chunk = 5000\n",
    "    leftover_bool = int(n%chunk>0)\n",
    "    batches = np.array_split(np.arange(n), n//chunk + leftover_bool)\n",
    "\n",
    "    Xs = []\n",
    "    for i, b in enumerate(batches):\n",
    "        Xb = X[b]\n",
    "        m, c, P, Q = Xb.shape\n",
    "        p = P//ps\n",
    "        q = Q//ps\n",
    "        Xb = rearrange(Xb, 'm c (p w) (q h) -> (m p q) (c w h)', p=p, q=q, w=ps, h=ps)\n",
    "        Xb = Xb @ M\n",
    "        Xb = rearrange(Xb, '(m p q) (c w h) -> m c (p w) (q h)', m=m, p=p, q=q, c=c, w=ps, h=ps)\n",
    "        Xs.append(Xb)\n",
    "    return torch.cat(Xs, dim=0)"
   ]
  },
  {
   "cell_type": "code",
   "execution_count": 79,
   "id": "13fbcfc2-a410-4d4a-9839-66b0f04ac127",
   "metadata": {
    "tags": []
   },
   "outputs": [
    {
     "data": {
      "image/png": "[encoded data removed]",
      "text/plain": [
       "<Figure size 640x480 with 8 Axes>"
      ]
     },
     "metadata": {},
     "output_type": "display_data"
    }
   ],
   "source": [
    "fig, axes = plt.subplots(2,4)\n",
    "fig.suptitle(\"Eigenvectors of M visualized on sample image\", fontsize=16)\n",
    "\n",
    "sample_X = train_X[0].unsqueeze(0)\n",
    "topk = 8 \n",
    "S, U = jnp.linalg.eigh(M)\n",
    "i = 0\n",
    "j = 0\n",
    "for k in range(topk):\n",
    "    if k==4:\n",
    "        j += 1\n",
    "        i = 0\n",
    "        \n",
    "    u = U[:,-1-k]\n",
    "    u = torch.from_numpy(np.array(np.expand_dims(u,axis=1)))\n",
    "    uuT = u@u.T\n",
    "    \n",
    "    \n",
    "    Xf = expand_image(sample_X)\n",
    "    Xf = multiply_patches(Xf, uuT)\n",
    "    Xf = reduce_image(Xf)\n",
    "    \n",
    "    ax = axes[j][i]\n",
    "    ax.imshow(torch.moveaxis(scale(Xf.squeeze(0)), 0, -1))\n",
    "    ax.set_xticks([])\n",
    "    ax.set_yticks([])\n",
    "    ax.title.set_text(rf'$u_{k+1}$')\n",
    "    \n",
    "    i += 1"
   ]
  },
  {
   "cell_type": "code",
   "execution_count": null,
   "id": "797ea50d-2b1e-43e9-8c78-7230302c7389",
   "metadata": {},
   "outputs": [],
   "source": []
  }
 ],
 "metadata": {
  "kernelspec": {
   "display_name": "Python [conda env:.conda-daniel_jax]",
   "language": "python",
   "name": "conda-env-.conda-daniel_jax-py"
  },
  "language_info": {
   "codemirror_mode": {
    "name": "ipython",
    "version": 3
   },
   "file_extension": ".py",
   "mimetype": "text/x-python",
   "name": "python",
   "nbconvert_exporter": "python",
   "pygments_lexer": "ipython3",
   "version": "3.9.18"
  }
 },
 "nbformat": 4,
 "nbformat_minor": 5
}
