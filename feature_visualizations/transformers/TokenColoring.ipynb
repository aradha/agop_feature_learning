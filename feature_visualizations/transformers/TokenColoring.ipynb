{
 "cells": [
  {
   "cell_type": "code",
   "execution_count": 1,
   "metadata": {},
   "outputs": [
    {
     "data": {
      "text/html": [
       "<span style='color: rgb(40, 255, 40); background-color: black;'>Anna</span><span style='color: rgb(256, 255, 256); background-color: black;'> and</span><span style='color: rgb(108, 255, 108); background-color: black;'> Ben</span><span style='color: rgb(302, 255, 302); background-color: black;'> are</span><span style='color: rgb(226, 255, 226); background-color: black;'> friends</span><span style='color: rgb(197, 255, 197); background-color: black;'>.</span><span style='color: rgb(315, 255, 315); background-color: black;'> They</span><span style='color: rgb(322, 255, 322); background-color: black;'> like</span><span style='color: rgb(231, 255, 231); background-color: black;'> to</span><span style='color: rgb(331, 255, 331); background-color: black;'> play</span><span style='color: rgb(300, 255, 300); background-color: black;'> games</span><span style='color: rgb(197, 255, 197); background-color: black;'>.</span><span style='color: rgb(251, 255, 251); background-color: black;'> Today</span><span style='color: rgb(304, 255, 304); background-color: black;'> they</span><span style='color: rgb(331, 255, 331); background-color: black;'> play</span><span style='color: rgb(267, 255, 267); background-color: black;'> a</span><span style='color: rgb(269, 255, 269); background-color: black;'> game</span><span style='color: rgb(324, 255, 324); background-color: black;'> with</span><span style='color: rgb(179, 255, 179); background-color: black;'> c</span><span style='color: rgb(233, 255, 233); background-color: black;'>ards</span><span style='color: rgb(197, 255, 197); background-color: black;'>.</span><span style='color: rgb(248, 255, 248); background-color: black;'> \"</span><span style='color: rgb(258, 255, 258); background-color: black;'>Who</span><span style='color: rgb(263, 255, 263); background-color: black;'> will</span><span style='color: rgb(293, 255, 293); background-color: black;'> win</span><span style='color: rgb(287, 255, 287); background-color: black;'>?\"</span><span style='color: rgb(28, 255, 28); background-color: black;'> Anna</span><span style='color: rgb(261, 255, 261); background-color: black;'> asks</span><span style='color: rgb(197, 255, 197); background-color: black;'>.</span><span style='color: rgb(248, 255, 248); background-color: black;'> \"</span><span style='color: rgb(248, 255, 248); background-color: black;'>I</span><span style='color: rgb(263, 255, 263); background-color: black;'> will</span><span style='color: rgb(293, 255, 293); background-color: black;'> win</span><span style='color: rgb(257, 255, 257); background-color: black;'>,\"</span><span style='color: rgb(108, 255, 108); background-color: black;'> Ben</span><span style='color: rgb(243, 255, 243); background-color: black;'> says</span><span style='color: rgb(197, 255, 197); background-color: black;'>.</span><div style='background-color: white; height: 20px;'></div>"
      ],
      "text/plain": [
       "<IPython.core.display.HTML object>"
      ]
     },
     "execution_count": 1,
     "metadata": {},
     "output_type": "execute_result"
    }
   ],
   "source": [
    "import hickle\n",
    "from IPython.display import display, HTML\n",
    "\n",
    "def color_text_with_black_background(numbers, strings):\n",
    "    if len(numbers) != len(strings):\n",
    "        return \"The lists must have the same length\"\n",
    "    \n",
    "    colored_strings = []\n",
    "    max_num = max(max(numbers), -min(numbers), 1)  # avoid division by zero\n",
    "    for num, string in zip(numbers, strings):\n",
    "        intensity = int(255 * (1 - num / max_num))  # 0 to 255\n",
    "        color = f\"rgb({intensity}, 255, {intensity})\"\n",
    "        colored_strings.append(f\"<span style='color: {color}; background-color: black;'>{string}</span>\")\n",
    "    colored_strings.append(\"<div style='background-color: white; height: 20px;'></div>\")\n",
    "    return HTML(''.join(colored_strings))\n",
    "\n",
    "data = hickle.load('token_weight_pairs.h')\n",
    "final_str = \"\"\n",
    "for idx, (tokens, _, weights) in enumerate(data): \n",
    "    out = color_text_with_black_background(weights, tokens)\n",
    "out"
   ]
  }
 ],
 "metadata": {
  "kernelspec": {
   "display_name": "pytorch1.13",
   "language": "python",
   "name": "pytorch1.13"
  },
  "language_info": {
   "codemirror_mode": {
    "name": "ipython",
    "version": 3
   },
   "file_extension": ".py",
   "mimetype": "text/x-python",
   "name": "python",
   "nbconvert_exporter": "python",
   "pygments_lexer": "ipython3",
   "version": "3.7.16"
  }
 },
 "nbformat": 4,
 "nbformat_minor": 5
}
